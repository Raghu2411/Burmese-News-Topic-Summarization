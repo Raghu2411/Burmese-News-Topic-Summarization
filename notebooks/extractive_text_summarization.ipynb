{
  "nbformat": 4,
  "nbformat_minor": 0,
  "metadata": {
    "colab": {
      "provenance": []
    },
    "kernelspec": {
      "name": "python3",
      "display_name": "Python 3"
    },
    "language_info": {
      "name": "python"
    }
  },
  "cells": [
    {
      "cell_type": "code",
      "source": [
        "!pip install pyidaungsu"
      ],
      "metadata": {
        "id": "-aDDLehjlmj6",
        "colab": {
          "base_uri": "https://localhost:8080/"
        },
        "outputId": "6563b351-ade1-4dfe-8500-7c5bdcb6cfb5"
      },
      "execution_count": null,
      "outputs": [
        {
          "output_type": "stream",
          "name": "stdout",
          "text": [
            "Collecting pyidaungsu\n",
            "  Downloading pyidaungsu-0.1.4-py3-none-any.whl (5.5 MB)\n",
            "\u001b[2K     \u001b[90m━━━━━━━━━━━━━━━━━━━━━━━━━━━━━━━━━━━━━━━━\u001b[0m \u001b[32m5.5/5.5 MB\u001b[0m \u001b[31m5.0 MB/s\u001b[0m eta \u001b[36m0:00:00\u001b[0m\n",
            "\u001b[?25hRequirement already satisfied: numpy in /usr/local/lib/python3.10/dist-packages (from pyidaungsu) (1.23.5)\n",
            "Collecting python-crfsuite (from pyidaungsu)\n",
            "  Downloading python_crfsuite-0.9.9-cp310-cp310-manylinux_2_17_x86_64.manylinux2014_x86_64.whl (993 kB)\n",
            "\u001b[2K     \u001b[90m━━━━━━━━━━━━━━━━━━━━━━━━━━━━━━━━━━━━━━━━\u001b[0m \u001b[32m993.5/993.5 kB\u001b[0m \u001b[31m65.6 MB/s\u001b[0m eta \u001b[36m0:00:00\u001b[0m\n",
            "\u001b[?25hCollecting emoji (from pyidaungsu)\n",
            "  Downloading emoji-2.8.0-py2.py3-none-any.whl (358 kB)\n",
            "\u001b[2K     \u001b[90m━━━━━━━━━━━━━━━━━━━━━━━━━━━━━━━━━━━━━━━━\u001b[0m \u001b[32m358.9/358.9 kB\u001b[0m \u001b[31m39.3 MB/s\u001b[0m eta \u001b[36m0:00:00\u001b[0m\n",
            "\u001b[?25hCollecting pybind11 (from pyidaungsu)\n",
            "  Downloading pybind11-2.11.1-py3-none-any.whl (227 kB)\n",
            "\u001b[2K     \u001b[90m━━━━━━━━━━━━━━━━━━━━━━━━━━━━━━━━━━━━━━━━\u001b[0m \u001b[32m227.7/227.7 kB\u001b[0m \u001b[31m26.4 MB/s\u001b[0m eta \u001b[36m0:00:00\u001b[0m\n",
            "\u001b[?25hCollecting fasttext (from pyidaungsu)\n",
            "  Downloading fasttext-0.9.2.tar.gz (68 kB)\n",
            "\u001b[2K     \u001b[90m━━━━━━━━━━━━━━━━━━━━━━━━━━━━━━━━━━━━━━━━\u001b[0m \u001b[32m68.8/68.8 kB\u001b[0m \u001b[31m9.3 MB/s\u001b[0m eta \u001b[36m0:00:00\u001b[0m\n",
            "\u001b[?25h  Preparing metadata (setup.py) ... \u001b[?25l\u001b[?25hdone\n",
            "Requirement already satisfied: setuptools>=0.7.0 in /usr/local/lib/python3.10/dist-packages (from fasttext->pyidaungsu) (67.7.2)\n",
            "Building wheels for collected packages: fasttext\n",
            "  Building wheel for fasttext (setup.py) ... \u001b[?25l\u001b[?25hdone\n",
            "  Created wheel for fasttext: filename=fasttext-0.9.2-cp310-cp310-linux_x86_64.whl size=4199772 sha256=fc9f9a3f1d4093df6388bfb96526300a4b76a24c97b4583624d3517e94223d7d\n",
            "  Stored in directory: /root/.cache/pip/wheels/a5/13/75/f811c84a8ab36eedbaef977a6a58a98990e8e0f1967f98f394\n",
            "Successfully built fasttext\n",
            "Installing collected packages: python-crfsuite, pybind11, emoji, fasttext, pyidaungsu\n",
            "Successfully installed emoji-2.8.0 fasttext-0.9.2 pybind11-2.11.1 pyidaungsu-0.1.4 python-crfsuite-0.9.9\n"
          ]
        }
      ]
    },
    {
      "cell_type": "code",
      "source": [
        "from nltk.cluster.util import cosine_distance\n",
        "import re\n",
        "import numpy as np\n",
        "import pyidaungsu as pds\n",
        "\n",
        "SENTENCE_SEPARATOR = [\".\", \"?\", \"!\", \"။\", \"…\", \"\\n\"]\n",
        "\n",
        "def sentence_tokenize(text):\n",
        "  sentences = re.split(\"(?<=[\" + \"\".join(SENTENCE_SEPARATOR) + \"])\\s*\", text)\n",
        "  if sentences[-1]:\n",
        "    return sentences\n",
        "  return sentences[:-1]\n",
        "\n",
        "\n",
        "def read_text(text):\n",
        "  sentences = sentence_tokenize(text)\n",
        "  return sentences\n",
        "\n",
        "def sentence_similarity(sent1, sent2):\n",
        "\n",
        "  sent1 = [w.lower() for w in pds.tokenize(sent1, form='word')]\n",
        "  sent2 = [w.lower() for w in pds.tokenize(sent2, form='word')]\n",
        "\n",
        "  all_words = list(set(sent1 + sent2))\n",
        "\n",
        "  vector1 = [0] * len(all_words)\n",
        "  vector2 = [0] * len(all_words)\n",
        "\n",
        "  for w in sent1:\n",
        "    vector1[all_words.index(w)] += 1\n",
        "\n",
        "  for w in sent2:\n",
        "    vector2[all_words.index(w)] += 1\n",
        "\n",
        "  if np.isnan(1 - cosine_distance(vector1, vector2)):\n",
        "    return 0\n",
        "  return 1 - cosine_distance(vector1, vector2)\n",
        "\n",
        "\n",
        "def build_similarity_matrix(sentences):\n",
        "\n",
        "  similarity_matrix = np.zeros((len(sentences),len(sentences)))\n",
        "\n",
        "  for idx1 in range(len(sentences)):\n",
        "    for idx2 in range(len(sentences)):\n",
        "      if idx1!=idx2:\n",
        "        similarity_matrix[idx1][idx2] = sentence_similarity(sentences[idx1],sentences[idx2])\n",
        "    return similarity_matrix"
      ],
      "metadata": {
        "id": "LeCFKz9jFN5c"
      },
      "execution_count": null,
      "outputs": []
    },
    {
      "cell_type": "code",
      "source": [
        "#@title Generate Text Summary\n",
        "import networkx as nx\n",
        "\n",
        "def generate_summary(text,top_n):\n",
        "\n",
        "  summarize_text = []\n",
        "\n",
        "  sentences = read_text(text)\n",
        "  sentence_similarity_matrix = build_similarity_matrix(sentences)\n",
        "  sentence_similarity_graph = nx.from_numpy_array(sentence_similarity_matrix)\n",
        "  scores = nx.pagerank(sentence_similarity_graph)\n",
        "  ranked_sentences = sorted(((scores[i],s) for i,s in enumerate(sentences)),reverse=True)\n",
        "\n",
        "  for i in range(top_n):\n",
        "    summarize_text.append(ranked_sentences[i][1].replace(\"\\n\", \"\"))\n",
        "\n",
        "  return \" \".join(summarize_text),len(sentences)"
      ],
      "metadata": {
        "id": "ZA8-i6HsQbXX"
      },
      "execution_count": null,
      "outputs": []
    },
    {
      "cell_type": "code",
      "source": [
        "text = \"\"\"အပူလှိုင်းရိုက်ခတ်မှုကိုပြင်သစ်ဘော်ဒိုးဒေသရှိဝိုင်လုပ်ငန်းရှင်များကြိုဆို\n",
        "ဥရောပတစ်ဝန်း၌မကြာသေးမီရက်ပိုင်းအတွင်းအပူလှိုင်းရိုက်ခတ်မှုကြောင့်ဝိုင်ကောင်းကောင်းထွက်နိုင်ခြေများနေသဖြင့်ယင်းကိုပြင်သစ်နိုင်ငံဘော်ဒိုးဒေသရှိဝိုင်လုပ်ငန်းရှင်များကကြိုဆိုခဲ့ကြသည်. ဘော်ဒိုး၌သုံးရက်ခန့်အပူလှိုင်းရိုက်ခတ်မှုသည်ဝိုင်ကောင်းကောင်းထွက်ရှိရေးအတွက်မှော်ပညာဖြင့်လုပ်ပေးလိုက်သလိုရှိနေကြောင်းဘော်ဒိုးဝိုင်ကောင်စီအကြီးအကဲဖိလစ်ပဲဘာဒေကပြောဆိုခဲ့သည်. ယခုအပတ်အတွင်းဘော်ဒိုးဒေသ၌အပူချိန်သည်၄၀ဒီဂရီဆဲစီးယပ်စ်ကိုကျော်လွန်ဖွယ်ရှိနေရာယင်းအပူချိန်ကြောင့်စပျစ်ပင်များတွင်ကပ်နေသည့်မှိုများအရည်ပျော်ကျကာဝိုင်ကောင်းကောင်းထွက်နိုင်ခြေများလာကြောင်းဘာဒေကပြောဆိုခဲ့သည်. ဘော်ဒိုးဒေသရှိအပင်များသည်မြေထဲပင်လယ်အပင်များဖြစ်သောကြောင့်အပူကိုနှစ်သက်ကြကြောင်းဘော်ဒိုးဝိုင်လုပ်ငန်းရှင်များအဖွဲ့၏ဥက္ကဋ္ဌဘားနတ်ဖာဂက်စ်ကပြောဆိုခဲ့သည်. အပူချိန်မကြုံစဖူးမြင့်တက်မှုကြောင့်အလုပ်သမားများသည်နွေရာသီလွန်ခူးဆွတ်မှုများကိုစတင်ရန်ပြင်ဆင်နေကြပြီဖြစ်သည်\"\"\"\n",
        "\n",
        "summary, txt_len = generate_summary(text, 3)\n",
        "print(\"Summary: \", summary)"
      ],
      "metadata": {
        "id": "Qi7t1gRqQyM8",
        "colab": {
          "base_uri": "https://localhost:8080/"
        },
        "outputId": "9df47916-e9eb-4af2-fea7-d32e9e3e3bb6"
      },
      "execution_count": null,
      "outputs": [
        {
          "output_type": "stream",
          "name": "stdout",
          "text": [
            "Summary:  အပူလှိုင်းရိုက်ခတ်မှုကိုပြင်သစ်ဘော်ဒိုးဒေသရှိဝိုင်လုပ်ငန်းရှင်များကြိုဆို ဥရောပတစ်ဝန်း၌မကြာသေးမီရက်ပိုင်းအတွင်းအပူလှိုင်းရိုက်ခတ်မှုကြောင့်ဝိုင်ကောင်းကောင်းထွက်နိုင်ခြေများနေသဖြင့်ယင်းကိုပြင်သစ်နိုင်ငံဘော်ဒိုးဒေသရှိဝိုင်လုပ်ငန်းရှင်များကကြိုဆိုခဲ့ကြသည်. ဘော်ဒိုးဒေသရှိအပင်များသည်မြေထဲပင်လယ်အပင်များဖြစ်သောကြောင့်အပူကိုနှစ်သက်ကြကြောင်းဘော်ဒိုးဝိုင်လုပ်ငန်းရှင်များအဖွဲ့၏ဥက္ကဋ္ဌဘားနတ်ဖာဂက်စ်ကပြောဆိုခဲ့သည်.\n"
          ]
        }
      ]
    },
    {
      "cell_type": "code",
      "source": [],
      "metadata": {
        "id": "CezkpG7_Q29h"
      },
      "execution_count": null,
      "outputs": []
    }
  ]
}